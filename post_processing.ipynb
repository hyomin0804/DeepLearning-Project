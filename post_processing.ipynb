{
 "cells": [
  {
   "attachments": {},
   "cell_type": "markdown",
   "metadata": {},
   "source": [
    "# Library Import"
   ]
  },
  {
   "cell_type": "code",
   "execution_count": 41,
   "metadata": {},
   "outputs": [],
   "source": [
    "import argparse\n",
    "import os\n",
    "import glob\n",
    "import numpy as np\n",
    "from PIL import Image\n",
    "from keras.models import load_model as load_keras_model\n",
    "from keras.preprocessing.image import img_to_array, load_img,array_to_img\n",
    "import cv2\n",
    "from keras.applications.densenet import preprocess_input\n",
    "import matplotlib.pyplot as plt"
   ]
  },
  {
   "cell_type": "code",
   "execution_count": 42,
   "metadata": {},
   "outputs": [
    {
     "data": {
      "text/plain": [
       "'/home/ubuntu/gcubme4/Workspace/HM_LEE/spine_scoliosis/total_code'"
      ]
     },
     "execution_count": 42,
     "metadata": {},
     "output_type": "execute_result"
    }
   ],
   "source": [
    "pwd"
   ]
  },
  {
   "cell_type": "markdown",
   "metadata": {},
   "source": [
    "# 모폴로지"
   ]
  },
  {
   "cell_type": "code",
   "execution_count": 50,
   "metadata": {},
   "outputs": [],
   "source": [
    "import os\n",
    "def mkfolder(folder):\n",
    "\n",
    "    for j in range(len(folder)):\n",
    "        if not os.path.lexists(folder[j]):\n",
    "            os.makedirs(folder[j])\n",
    "            \n",
    "for i in range(5):\n",
    "    train_path=\"../3st/result/%d/img/compare/Morpho\"%i\n",
    "    predict_path=\"../3st/result/%d/img/post_pro\"%i\n",
    "    folder = [train_path,predict_path]\n",
    "    mkfolder(folder)\n",
    "    \n",
    "for i in range(5):    \n",
    "    pred_mask=glob.glob(\"../3st/result/%d/img/mask\"%i + '/*.png') #테스트.png 파일 경로\n",
    "\n",
    "\n",
    "    for a in range(len(pred_mask)):\n",
    "\n",
    "        img_name = pred_mask[a][pred_mask[a].rindex('/')+1:pred_mask[a].rindex('.')]\n",
    "\n",
    "        result_arr = cv2.imread(pred_mask[a])\n",
    "\n",
    "\n",
    "        kernel = np.ones((5,5), np.uint8)\n",
    "        kerne2 = np.ones((4,4), np.uint8)\n",
    "        kerne3 = np.ones((7,7), np.uint8)\n",
    "\n",
    "        #침식팽창1\n",
    "        result = cv2.erode(result_arr, kernel, iterations = 1)\n",
    "        a2 = cv2.dilate(result, kernel, iterations = 1)\n",
    "        #침식팽창2\n",
    "        result = cv2.erode(a2, kerne2, iterations = 1)\n",
    "        outer_result = cv2.dilate(result, kerne2, iterations = 1)\n",
    "\n",
    "        #open close\n",
    "        outer_result=cv2.morphologyEx(outer_result,cv2.MORPH_CLOSE,kernel)\n",
    "        outer_result=cv2.morphologyEx(outer_result,cv2.MORPH_OPEN,kerne3)\n",
    "        \n",
    "        cv2.imwrite(\"../3st/result/%d/img/post_pro/\"%i+img_name+\".png\",outer_result)"
   ]
  },
  {
   "cell_type": "markdown",
   "metadata": {},
   "source": [
    "# 잘됐는지 원본이랑 비교"
   ]
  },
  {
   "cell_type": "code",
   "execution_count": null,
   "metadata": {},
   "outputs": [],
   "source": [
    "for i in range(5):    \n",
    "    pred_mask=glob.glob(\"../3st/result/%d/img/mask\"%i + '/*.png')\n",
    "    post_mask=glob.glob(\"../3st/result/%d/img/post_pro\"%i + '/*.png')\n",
    "    result_save_path=\"../3st/result/%d/img/compare/Morpho/\"%i\n",
    "    \n",
    "    for a in range(len(pred_mask)):\n",
    "        img_name = pred_mask[a][pred_mask[a].rindex('/')+1:pred_mask[a].rindex('.')]\n",
    "        img1 = plt.imread(pred_mask[a])\n",
    "        img2 = plt.imread(post_mask[a])\n",
    "\n",
    "        plt.rc('font', size=12)\n",
    "        plt.figure(figsize=(10,5),dpi=300)  \n",
    "        plt.subplots_adjust(wspace=0.05)\n",
    "        \n",
    "        plt.subplot(1,2,1)\n",
    "        plt.imshow(img1,cmap='gray')\n",
    "        plt.title('pred_mask')\n",
    "        plt.axis('off')\n",
    "\n",
    "        plt.subplot(1,2,2)\n",
    "        plt.imshow(img2,cmap='gray')\n",
    "        plt.title('post_processing_mask')\n",
    "        plt.axis('off')\n",
    "        \n",
    "        plt.savefig(result_save_path+\"{}_Morph.png\".format(img_name))"
   ]
  },
  {
   "cell_type": "markdown",
   "metadata": {},
   "source": [
    "# npy로 저장"
   ]
  },
  {
   "cell_type": "code",
   "execution_count": 53,
   "metadata": {},
   "outputs": [
    {
     "name": "stdout",
     "output_type": "stream",
     "text": [
      "------------------------------\n",
      "Creating test images...\n",
      "------------------------------\n",
      "loading done\n",
      "Saving to imgs_test.npy files done.\n",
      "\n",
      "------------------------------\n",
      "Creating test images...\n",
      "------------------------------\n",
      "loading done\n",
      "Saving to imgs_test.npy files done.\n",
      "\n",
      "------------------------------\n",
      "Creating test images...\n",
      "------------------------------\n",
      "loading done\n",
      "Saving to imgs_test.npy files done.\n",
      "\n",
      "------------------------------\n",
      "Creating test images...\n",
      "------------------------------\n",
      "loading done\n",
      "Saving to imgs_test.npy files done.\n",
      "\n",
      "------------------------------\n",
      "Creating test images...\n",
      "------------------------------\n",
      "loading done\n",
      "Saving to imgs_test.npy files done.\n",
      "\n"
     ]
    }
   ],
   "source": [
    "img_type=\"png\"\n",
    "\n",
    "for a in range(5):    \n",
    "    \n",
    "    test_label_path=\"../3st/result/%d/img/post_pro\"%a\n",
    "    npy_path=\"../3st/result/%d/npy/\"%a\n",
    "    print(a,'번 시작')\n",
    "    print('-'*30)\n",
    "    print('Creating test images...')\n",
    "    print('-'*30)\n",
    "    imglabels=[]\n",
    "    midname=[]\n",
    "    i = 0\n",
    "    imgs = glob.glob(test_label_path+\"/*.\"+img_type)\n",
    "\n",
    "    imglabels = np.ndarray((len(imgs),1024,1024,1), dtype=np.uint8)\n",
    "    \n",
    "    for j, imgname in enumerate(imgs):\n",
    "            midname = imgname[imgname.rindex(\"/\")+1:]\n",
    "            #print(midname)\n",
    "\n",
    "            label = load_img(test_label_path +\"/\"+ midname, color_mode = \"grayscale\")\n",
    "\n",
    "            label=label.resize((1024,1024))\n",
    "\n",
    "\n",
    "            label = img_to_array(label)\n",
    "\n",
    "            label=np.reshape(label,(1024,1024,1))\n",
    "            imglabels[j] = label\n",
    "#             plt.imshow(label,cmap='gray')\n",
    "#             plt.axis('off')\n",
    "\n",
    "    print('loading done')\n",
    "            \n",
    "    np.save(npy_path+'predict_post.npy', imglabels)\n",
    "    print('Saving to imgs_test.npy files done.')\n",
    "    print(\"\")"
   ]
  },
  {
   "cell_type": "code",
   "execution_count": null,
   "metadata": {},
   "outputs": [],
   "source": []
  }
 ],
 "metadata": {
  "kernelspec": {
   "display_name": "Python 3",
   "language": "python",
   "name": "python3"
  },
  "language_info": {
   "codemirror_mode": {
    "name": "ipython",
    "version": 3
   },
   "file_extension": ".py",
   "mimetype": "text/x-python",
   "name": "python",
   "nbconvert_exporter": "python",
   "pygments_lexer": "ipython3",
   "version": "3.6.10"
  }
 },
 "nbformat": 4,
 "nbformat_minor": 4
}
