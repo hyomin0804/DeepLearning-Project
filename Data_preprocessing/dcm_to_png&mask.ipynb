{
 "cells": [
  {
   "attachments": {},
   "cell_type": "markdown",
   "metadata": {},
   "source": [
    "# dcm file preprocessing"
   ]
  },
  {
   "cell_type": "code",
   "execution_count": null,
   "metadata": {},
   "outputs": [],
   "source": [
    "pwd # 경로 확인"
   ]
  },
  {
   "cell_type": "code",
   "execution_count": 65,
   "metadata": {},
   "outputs": [],
   "source": [
    "#dcm zero padding & roi 마스크 생성 & resize\n",
    "import glob\n",
    "import os \n",
    "import pydicom\n",
    "import cv2\n",
    "import numpy as np\n",
    "from read_roi import read_roi_zip\n",
    "from PIL import Image\n",
    "import matplotlib.pyplot as plt\n",
    "from pydicom.uid import ImplicitVRLittleEndian\n",
    "import nibabel as nib\n",
    "import pandas as pd"
   ]
  },
  {
   "cell_type": "code",
   "execution_count": 66,
   "metadata": {},
   "outputs": [],
   "source": [
    "# 영상 처리 알고리즘 (대비 뚜렷하게 해줌)\n",
    "def clahe(img):\n",
    "    #img = cv2.imread(img,cv2.IMREAD_GRAYSCALE)\n",
    "    \n",
    "    clahe=cv2.createCLAHE(clipLimit=2.0, tileGridSize=(8,8))\n",
    "    img2=clahe.apply(img)\n",
    "    \n",
    "    return img2"
   ]
  },
  {
   "cell_type": "code",
   "execution_count": 86,
   "metadata": {},
   "outputs": [
    {
     "name": "stdout",
     "output_type": "stream",
     "text": [
      "74\n",
      "74\n"
     ]
    }
   ],
   "source": [
    "INPUT_FOLDER ='../datasets/compress_ori'\n",
    "\n",
    "dcm_list=glob.glob(INPUT_FOLDER+\"/*.dcm\")\n",
    "roi_zip_list=glob.glob(INPUT_FOLDER+\"/*.zip\")\n",
    "dcm_list.sort()\n",
    "roi_zip_list.sort()\n",
    "\n",
    "print(len(roi_zip_list))\n",
    "print(len(dcm_list))\n",
    "# print(roi_zip_list[490])\n",
    "# print(dcm_list[490])"
   ]
  },
  {
   "cell_type": "markdown",
   "metadata": {},
   "source": [
    "# dcm_to_png_resize"
   ]
  },
  {
   "cell_type": "code",
   "execution_count": null,
   "metadata": {
    "collapsed": true,
    "jupyter": {
     "outputs_hidden": true
    }
   },
   "outputs": [],
   "source": [
    "def get_LUT_value(data, window, level):\n",
    "    try:\n",
    "        window = window[0]\n",
    "    except TypeError:\n",
    "        pass\n",
    "    try:\n",
    "        level = level[0]\n",
    "    except TypeError:\n",
    "        pass\n",
    "\n",
    "    return np.piecewise(data,\n",
    "                        [data <= (level - 0.5 - (window - 1) / 2),\n",
    "                         data > (level - 0.5 + (window - 1) / 2)],\n",
    "                        [0, 255, lambda data: ((data - (level - 0.5)) /\n",
    "                         (window - 1) + 0.5) * (255 - 0)])\n",
    "\n",
    "for i,dcm in enumerate(dcm_list):\n",
    "\n",
    "    ds=pydicom.read_file(dcm)\n",
    "    ArrayDicom = ds.pixel_array\n",
    "\n",
    "    photometric_interpretation = ds.PhotometricInterpretation\n",
    "    if photometric_interpretation == 'MONOCHROME1':\n",
    "#         print(\"MONOCHROME1\")\n",
    "        ArrayDicom=255-get_LUT_value(ArrayDicom, ds.WindowWidth, ds.WindowCenter)\n",
    "    elif photometric_interpretation == 'MONOCHROME2':\n",
    "#         print(\"MONOCHROME2\")\n",
    "        ArrayDicom=get_LUT_value(ArrayDicom, ds.WindowWidth, ds.WindowCenter)\n",
    "        \n",
    "    diff=ArrayDicom.shape[0]-ArrayDicom.shape[1]\n",
    "    diff_2=int(diff/2)\n",
    "    if diff_2+diff_2 < diff:\n",
    "        sum_numpy=np.zeros((ArrayDicom.shape[0],int(diff_2)))\n",
    "        sum_numpy_=np.zeros((ArrayDicom.shape[0],int(diff_2)+1))\n",
    "        tmp=np.append(sum_numpy, ArrayDicom, axis=-1)\n",
    "        add_ArrayDicom=np.append(tmp, sum_numpy_, axis=-1)\n",
    "    else:\n",
    "        sum_numpy=np.zeros((ArrayDicom.shape[0],int(diff_2)))\n",
    "        tmp=np.append(sum_numpy, ArrayDicom, axis=-1)\n",
    "        add_ArrayDicom=np.append(tmp, sum_numpy, axis=-1)\n",
    "\n",
    "    file_name=dcm[dcm.rindex('/')+1:-4]\n",
    "#     print(file_name)\n",
    "    img_resize = cv2.resize(add_ArrayDicom, (1024,1024)) #resize\n",
    "    cv2.imwrite(\"../datasets/3st/inputt/img_%s.png\"%file_name,img_resize)\n",
    "    \n",
    "    img = cv2.imread(\"../datasets/3st/inputt/img_%s.png\"%file_name,cv2.IMREAD_GRAYSCALE)\n",
    "    clahe_img=clahe(img)\n",
    "    cv2.imwrite(\"../datasets/3st/input_CLAHEE/img_%s.png\"%file_name,clahe_img)\n",
    "\n",
    "#     print(ds.WindowWidth, ds.WindowCenter)\n",
    "#     print(img_resize.shape)\n",
    "#     plt.axis('off')\n",
    "#     plt.imshow(img_resize, cmap='gray')\n",
    "#     plt.show()"
   ]
  },
  {
   "cell_type": "markdown",
   "metadata": {},
   "source": [
    "# roi_to_png_resize"
   ]
  },
  {
   "cell_type": "code",
   "execution_count": 69,
   "metadata": {},
   "outputs": [],
   "source": [
    "for roi in roi_zip_list:\n",
    "\n",
    "        if \"0000.zip\" in roi:\n",
    "            ds=pydicom.read_file(roi.replace(\".zip\",\".dcm\"))\n",
    "        else:\n",
    "            ds=pydicom.read_file(roi.replace(\".zip\",\".dcm\"))\n",
    "\n",
    "        ds.file_meta.TransferSyntaxUID = pydicom.uid.ImplicitVRLittleEndian\n",
    "        ArrayDicom = ds.pixel_array\n",
    "        rois = read_roi_zip(roi)\n",
    "        roi_key=list(rois.keys())\n",
    "        mask_tmp = np.zeros((ArrayDicom.shape[0], ArrayDicom.shape[1]), np.uint8)\n",
    "        for j,nam in enumerate(roi_key):\n",
    "            if rois[nam]['type']=='polygon' or rois[roi]['type'] == 'freehand':\n",
    "                roi_xy=list(zip(rois[nam]['x'],rois[nam]['y']))\n",
    "                roi_xy=np.array(roi_xy)\n",
    "                mask = np.zeros((ArrayDicom.shape[0], ArrayDicom.shape[1]), np.uint8)\n",
    "                mask2 = np.zeros((ArrayDicom.shape[0]+2, ArrayDicom.shape[1]+2), np.uint8)               \n",
    "                roi_xy = roi_xy.reshape((-1,1,2))\n",
    "                img = cv2.polylines(mask[:,:],np.int32([roi_xy]),True,(255,255,255)) #int32 오류떠서 넣음\n",
    "                cv2.floodFill(img, mask2, (0,0), 255)\n",
    "                img = cv2.bitwise_not(img)\n",
    "                mask[:,:]=img\n",
    "                mask_tmp[mask==255]=255\n",
    "            else:\n",
    "                print(rois[nam]['type'])\n",
    "                print(roi)\n",
    "                print(\"error!!!!!!!!!!!!!!!!!!!\")\n",
    "\n",
    "\n",
    "        diff=ArrayDicom.shape[0]-ArrayDicom.shape[1]\n",
    "        diff_2=int(diff/2)\n",
    "        if diff_2+diff_2 < diff:\n",
    "            sum_numpy=np.zeros((ArrayDicom.shape[0],int(diff_2)))\n",
    "            sum_numpy_=np.zeros((ArrayDicom.shape[0],int(diff_2)+1))\n",
    "            tmp=np.append(sum_numpy, mask_tmp, axis=-1)\n",
    "            add_mask=np.append(tmp, sum_numpy_, axis=-1)\n",
    "        else:\n",
    "            sum_numpy=np.zeros((ArrayDicom.shape[0],int(diff_2)))\n",
    "            tmp=np.append(sum_numpy, mask_tmp, axis=-1)\n",
    "            add_mask=np.append(tmp, sum_numpy, axis=-1)\n",
    "            \n",
    "        file_name=roi[roi.rindex('/')+1:-4]\n",
    "        img_resize = cv2.resize(add_mask, (1024,1024)) #resize\n",
    "        cv2.imwrite(\"../datasets/3st/maskk/img_%s.png\"%file_name,img_resize)\n",
    "\n",
    "#         print(img_resize.shape)\n",
    "#         plt.axis('off')\n",
    "#         plt.imshow(img_resize, cmap='gray')\n",
    "#         plt.show()\n",
    "        "
   ]
  },
  {
   "cell_type": "markdown",
   "metadata": {},
   "source": [
    "# nii파일"
   ]
  },
  {
   "cell_type": "code",
   "execution_count": 127,
   "metadata": {},
   "outputs": [],
   "source": [
    "import gzip\n",
    "import glob\n",
    "import os\n",
    "import matplotlib.pyplot as plt\n",
    "import numpy as np\n",
    "import nibabel as nib\n",
    "import json\n",
    "import cv2\n",
    "import zipfile"
   ]
  },
  {
   "cell_type": "code",
   "execution_count": null,
   "metadata": {},
   "outputs": [],
   "source": [
    "INPUT_FOLDER ='../datasets/compress_ori'\n",
    "\n",
    "dcm_list=glob.glob(INPUT_FOLDER+\"/*.dcm\")\n",
    "roi_zip_list=glob.glob(INPUT_FOLDER+\"/*.zip\")\n",
    "dcm_list.sort()\n",
    "roi_zip_list.sort()\n",
    "\n",
    "print(len(roi_zip_list))\n",
    "print(len(dcm_list))\n",
    "# print(roi_zip_list[490])\n",
    "# print(dcm_list[490])"
   ]
  },
  {
   "cell_type": "code",
   "execution_count": 130,
   "metadata": {},
   "outputs": [],
   "source": [
    "def open_niigz(path):\n",
    "    proxy = nib.load(path)\n",
    "    arr = proxy.get_fdata()\n",
    "    #     arr = np.squeeze(arr,axis=-1)\n",
    "    arr = arr[:, :, ::-1]\n",
    "    arr = arr.T\n",
    "\n",
    "    return arr[0]\n",
    "\n",
    "PATH = '../datasets/compress_ori/'\n",
    "\n",
    "for i,lis in enumerate(roi_zip_list):\n",
    "#     print(lis)\n",
    "    save_file_name=lis[lis.rindex('/')+1:-4]\n",
    "    \n",
    "    file_name=roi_zip_list[i][:-4]\n",
    "\n",
    "    nii_path = sorted(glob.glob(file_name+ '/*.gz'))\n",
    "    \n",
    "    for j, path in enumerate(nii_path):\n",
    "        \n",
    "        a = open_niigz(path)\n",
    "        name = path[path.rindex('/') + 1:].split('.')[0]\n",
    "        \n",
    "        if j==0:\n",
    "            mask_tmp = a\n",
    "        else:\n",
    "            mask_tmp+=a\n",
    "            \n",
    "    if \".zip\" in lis:\n",
    "        ds=pydicom.read_file(lis.replace(\".zip\",\".dcm\"))\n",
    "\n",
    "    ds.file_meta.TransferSyntaxUID = pydicom.uid.ImplicitVRLittleEndian\n",
    "    ArrayDicom = ds.pixel_array\n",
    "\n",
    "    diff=ArrayDicom.shape[0]-ArrayDicom.shape[1]\n",
    "    diff_2=int(diff/2)\n",
    "    if diff_2+diff_2 < diff:\n",
    "        sum_numpy=np.zeros((ArrayDicom.shape[0],int(diff_2)))\n",
    "        sum_numpy_=np.zeros((ArrayDicom.shape[0],int(diff_2)+1))\n",
    "        tmp=np.append(sum_numpy, mask_tmp, axis=-1)\n",
    "        add_mask=np.append(tmp, sum_numpy_, axis=-1)\n",
    "    else:\n",
    "        sum_numpy=np.zeros((ArrayDicom.shape[0],int(diff_2)))\n",
    "        tmp=np.append(sum_numpy, mask_tmp, axis=-1)\n",
    "        add_mask=np.append(tmp, sum_numpy, axis=-1)\n",
    "\n",
    "    \n",
    "    img_resize = cv2.resize(add_mask, (1024,1024)) \n",
    "    cv2.imwrite(\"../datasets/3st/maskk/img_%s.png\"%save_file_name,img_resize)\n",
    "    \n",
    "#     print(img_resize.shape)\n",
    "#     plt.axis('off')\n",
    "#     plt.imshow(img_resize, cmap='gray')\n",
    "#     plt.show()"
   ]
  },
  {
   "cell_type": "markdown",
   "metadata": {},
   "source": [
    "# 마스크와 원본 매칭"
   ]
  },
  {
   "cell_type": "code",
   "execution_count": 82,
   "metadata": {},
   "outputs": [
    {
     "data": {
      "text/plain": [
       "'/home/ubuntu/gcubme4/Workspace/HM_LEE/spine_scoliosis/total_code'"
      ]
     },
     "execution_count": 82,
     "metadata": {},
     "output_type": "execute_result"
    }
   ],
   "source": [
    "pwd"
   ]
  },
  {
   "cell_type": "code",
   "execution_count": 71,
   "metadata": {},
   "outputs": [
    {
     "name": "stderr",
     "output_type": "stream",
     "text": [
      "Using TensorFlow backend.\n"
     ]
    }
   ],
   "source": [
    "import glob\n",
    "import cv2\n",
    "import matplotlib.pyplot as plt\n",
    "import numpy as np\n",
    "from keras.preprocessing.image import ImageDataGenerator, array_to_img, img_to_array, load_img"
   ]
  },
  {
   "cell_type": "code",
   "execution_count": null,
   "metadata": {
    "collapsed": true,
    "jupyter": {
     "outputs_hidden": true
    }
   },
   "outputs": [],
   "source": [
    "ori_path= sorted(glob.glob('../datasets/3st/inputt/*.png'))\n",
    "mask_path=sorted(glob.glob('../datasets/3st/maskk/*.png'))\n",
    "check_path=\"../datasets/3st/checkk/\"\n",
    "\n",
    "print(len(ori_path),\"  \",len(ori_path))\n",
    "for i in range(len(ori_path)):\n",
    "    img_name = ori_path[i][ori_path[i].rindex('/')+1:ori_path[i].rindex('.')]\n",
    "    img_t = load_img(ori_path[i])\n",
    "    img_l = load_img(mask_path[i])\n",
    "    x_t = img_to_array(img_t)            \n",
    "    x_l = img_to_array(img_l)\n",
    "    x_t[:,:,2] = x_l[:,:,0]\n",
    "    img_tmp = array_to_img(x_t)\n",
    "    \n",
    "    plt.imshow(img_tmp, cmap='gray')\n",
    "    plt.axis('off')\n",
    "    plt.show()\n",
    "    img_tmp.save(check_path+\"{}.png\".format(img_name))\n",
    "   "
   ]
  },
  {
   "cell_type": "markdown",
   "metadata": {},
   "source": [
    "# zip과 dcm 이미지 이름 서로 안맞은거 같을때 검사"
   ]
  },
  {
   "cell_type": "code",
   "execution_count": 61,
   "metadata": {},
   "outputs": [
    {
     "name": "stdout",
     "output_type": "stream",
     "text": [
      "491\n",
      "491\n"
     ]
    }
   ],
   "source": [
    "# dcm=\"../datasets/input\"\n",
    "# roi=\"../datasets/mask\"\n",
    "\n",
    "path=\"../datasets/ori\"\n",
    "dcm_=glob.glob(path+\"/*.dcm\")\n",
    "roi_=glob.glob(path+\"/*.zip\")\n",
    "\n",
    "print(len(dcm_))\n",
    "print(len(roi_))\n",
    "\n",
    "dcm_f=[]\n",
    "\n",
    "for i in dcm_: \n",
    "    file_=i[i.rindex('/')+1:-4]\n",
    "    dcm_f.append(file_)\n",
    "\n",
    "\n",
    "roi_f=[]\n",
    "\n",
    "for i in roi_: \n",
    "    file_1=i[i.rindex('/')+1:-4]\n",
    "    roi_f.append(file_1)\n",
    "       "
   ]
  },
  {
   "cell_type": "code",
   "execution_count": 67,
   "metadata": {},
   "outputs": [
    {
     "name": "stdout",
     "output_type": "stream",
     "text": [
      "491\n",
      "491\n"
     ]
    },
    {
     "data": {
      "text/plain": [
       "[]"
      ]
     },
     "execution_count": 67,
     "metadata": {},
     "output_type": "execute_result"
    }
   ],
   "source": [
    "print(len(set(dcm_f)))\n",
    "print(len(set(roi_f)))\n",
    "\n",
    "temp3 = list(set(dcm_f) - set(roi_f))\n",
    "temp3\n",
    "\n",
    "# temp3 = []\n",
    "# for i in dcm_f:\n",
    "#     if i not in roi_f:\n",
    "#         temp3.append(i)\n",
    "# print(temp3)"
   ]
  },
  {
   "cell_type": "code",
   "execution_count": null,
   "metadata": {},
   "outputs": [],
   "source": []
  }
 ],
 "metadata": {
  "kernelspec": {
   "display_name": "Python 3",
   "language": "python",
   "name": "python3"
  },
  "language_info": {
   "codemirror_mode": {
    "name": "ipython",
    "version": 3
   },
   "file_extension": ".py",
   "mimetype": "text/x-python",
   "name": "python",
   "nbconvert_exporter": "python",
   "pygments_lexer": "ipython3",
   "version": "3.6.10"
  }
 },
 "nbformat": 4,
 "nbformat_minor": 4
}
