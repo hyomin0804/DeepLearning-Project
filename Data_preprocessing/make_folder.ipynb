{
 "cells": [
  {
   "cell_type": "code",
   "execution_count": 11,
   "metadata": {},
   "outputs": [
    {
     "data": {
      "text/plain": [
       "'/home/ubuntu/gcubme4/Workspace/HM_LEE/spine_scoliosis/total_code'"
      ]
     },
     "execution_count": 11,
     "metadata": {},
     "output_type": "execute_result"
    }
   ],
   "source": [
    "pwd"
   ]
  },
  {
   "cell_type": "markdown",
   "metadata": {},
   "source": [
    "# 데이터 datasets 세부폴더 생성"
   ]
  },
  {
   "cell_type": "code",
   "execution_count": null,
   "metadata": {},
   "outputs": [],
   "source": [
    "import os\n",
    "def mkfolder(folder):\n",
    "\n",
    "    for j in range(len(folder)):\n",
    "        if not os.path.lexists(folder[j]):\n",
    "            os.makedirs(folder[j])\n",
    "            \n",
    "    \n",
    "check_model_path = '../1st/input'\n",
    "model_path='../2st/input/center'\n",
    "predict_path = '../2st/input/lat'\n",
    "result_save_paths='../2st/input/upper'\n",
    "pred_img_path = '../2st/input/mid'\n",
    "test_label_path ='../2st/input/blow'\n",
    "\n",
    "aa='../../2st/mask'\n",
    "merge_path='../../2st/mask/center'\n",
    "aug_merge_path='../../2st/mask/lat'\n",
    "aug_train_path='../../2st/mask/upper'\n",
    "aug_label_path='../../2st/mask/mid'\n",
    "npy_path = '../../2st/mask/blow'\n",
    "\n",
    "folder = [test_label_path,pred_img_path,aa,check_model_path,model_path,predict_path,result_save_paths,pred_img_path,merge_path,aug_merge_path,aug_train_path,aug_label_path,npy_path]\n",
    "mkfolder(folder)"
   ]
  },
  {
   "cell_type": "markdown",
   "metadata": {},
   "source": [
    "# 학습 폴더 생성"
   ]
  },
  {
   "cell_type": "code",
   "execution_count": 1,
   "metadata": {},
   "outputs": [],
   "source": [
    "import os\n",
    "def mkfolder(folder):\n",
    "\n",
    "    for j in range(len(folder)):\n",
    "        if not os.path.lexists(folder[j]):\n",
    "            os.makedirs(folder[j])\n",
    "fold=\"../7th_total/\"\n",
    "for i in range(5):\n",
    "            \n",
    "    train_path=fold+\"data/%d/non_aug/train_ori\"%i\n",
    "    label_path=fold+\"data/%d/non_aug/train_msk\"%i\n",
    "    test_path =fold+ \"data/%d/non_aug/test_ori\"%i\n",
    "    test_label_path =fold+ \"data/%d/non_aug/test_msk\"%i\n",
    "    \n",
    "    merge_path=fold+\"data/%d/aug/merge_tmp\"%i\n",
    "    aug_merge_path=fold+\"data/%d/aug/aug_merge_tmp\"%i\n",
    "    aug_train_path=fold+\"data/%d/aug/train_ori\"%i\n",
    "    aug_label_path=fold+\"data/%d/aug/train_msk\"%i\n",
    "    npy_path = fold+\"data/%d/aug/npy\"%i\n",
    "    \n",
    "    check_model_path = fold+'result/%s/check/'%i\n",
    "    model_path=fold+'result/%s/model'%i\n",
    "    predict_path = fold+'result/%s/npy/'%i\n",
    "    result_save_paths=fold+\"result/%s/img/compare/\"%i\n",
    "    pred_img_path =fold+'result/%s/img/mask/'%i\n",
    "\n",
    "    folder = [train_path,label_path,test_path,test_label_path,merge_path,aug_merge_path,aug_train_path,aug_label_path,npy_path,check_model_path,model_path,predict_path,result_save_paths,pred_img_path]\n",
    "    mkfolder(folder)"
   ]
  },
  {
   "cell_type": "code",
   "execution_count": 3,
   "metadata": {},
   "outputs": [],
   "source": [
    "import os\n",
    "def mkfolder(folder):\n",
    "\n",
    "    for j in range(len(folder)):\n",
    "        if not os.path.lexists(folder[j]):\n",
    "            os.makedirs(folder[j])\n",
    "            \n",
    "for i in range(5):\n",
    "    train_path=\"../4th/result/%d/img/compare/Morpho\"%i\n",
    "    folder = [train_path]\n",
    "    mkfolder(folder)"
   ]
  },
  {
   "cell_type": "code",
   "execution_count": null,
   "metadata": {},
   "outputs": [],
   "source": []
  }
 ],
 "metadata": {
  "kernelspec": {
   "display_name": "Python 3",
   "language": "python",
   "name": "python3"
  },
  "language_info": {
   "codemirror_mode": {
    "name": "ipython",
    "version": 3
   },
   "file_extension": ".py",
   "mimetype": "text/x-python",
   "name": "python",
   "nbconvert_exporter": "python",
   "pygments_lexer": "ipython3",
   "version": "3.6.10"
  }
 },
 "nbformat": 4,
 "nbformat_minor": 4
}
